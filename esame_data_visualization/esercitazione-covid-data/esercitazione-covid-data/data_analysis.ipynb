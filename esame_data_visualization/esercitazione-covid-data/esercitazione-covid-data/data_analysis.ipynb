{
 "cells": [
  {
   "cell_type": "code",
   "execution_count": 7,
   "metadata": {},
   "outputs": [
    {
     "name": "stdout",
     "output_type": "stream",
     "text": [
      "       const dataset = `day  month  year  cases  deaths      country  \\\n",
      "0                        14     12  2020    746       6  Afghanistan   \n",
      "1                        13     12  2020    298       9  Afghanistan   \n",
      "2                        12     12  2020    113      11  Afghanistan   \n",
      "3                        11     12  2020     63      10  Afghanistan   \n",
      "4                        10     12  2020    202      16  Afghanistan   \n",
      "...                     ...    ...   ...    ...     ...          ...   \n",
      "61895                    25      3  2020      0       0     Zimbabwe   \n",
      "61896                    24      3  2020      0       1     Zimbabwe   \n",
      "61897                    23      3  2020      0       0     Zimbabwe   \n",
      "61898                    22      3  2020      1       0     Zimbabwe   \n",
      "61899                    21      3  2020      1       0     Zimbabwe   \n",
      "\n",
      "          pop2019 continent cum14daysCasesPer100000  \n",
      "0      38041757.0      Asia              9.01377925  \n",
      "1      38041757.0      Asia              7.05277624  \n",
      "2      38041757.0      Asia              6.86876792  \n",
      "3      38041757.0      Asia              7.13426564  \n",
      "4      38041757.0      Asia              6.96865815  \n",
      "...           ...       ...                     ...  \n",
      "61895  14645473.0    Africa                      -1  \n",
      "61896  14645473.0    Africa                      -1  \n",
      "61897  14645473.0    Africa                      -1  \n",
      "61898  14645473.0    Africa                      -1  \n",
      "61899  14645473.0    Africa                     -1`  \n",
      "\n",
      "[61900 rows x 9 columns]\n"
     ]
    }
   ],
   "source": [
    "import pandas as pd\n",
    "df = pd.read_csv(\"dataset.js\")\n",
    "\n",
    "print(df)"
   ]
  },
  {
   "cell_type": "code",
   "execution_count": 10,
   "metadata": {},
   "outputs": [
    {
     "name": "stdout",
     "output_type": "stream",
     "text": [
      "['Asia' 'Europe' 'Africa' 'America' 'Oceania' 'Other']\n"
     ]
    }
   ],
   "source": [
    "print(df[\"continent\"].unique())"
   ]
  },
  {
   "cell_type": "code",
   "execution_count": 12,
   "metadata": {},
   "outputs": [
    {
     "data": {
      "text/html": [
       "<div>\n",
       "<style scoped>\n",
       "    .dataframe tbody tr th:only-of-type {\n",
       "        vertical-align: middle;\n",
       "    }\n",
       "\n",
       "    .dataframe tbody tr th {\n",
       "        vertical-align: top;\n",
       "    }\n",
       "\n",
       "    .dataframe thead th {\n",
       "        text-align: right;\n",
       "    }\n",
       "</style>\n",
       "<table border=\"1\" class=\"dataframe\">\n",
       "  <thead>\n",
       "    <tr style=\"text-align: right;\">\n",
       "      <th></th>\n",
       "      <th>const dataset = `day</th>\n",
       "      <th>month</th>\n",
       "      <th>year</th>\n",
       "      <th>cases</th>\n",
       "      <th>deaths</th>\n",
       "      <th>country</th>\n",
       "      <th>pop2019</th>\n",
       "      <th>continent</th>\n",
       "      <th>cum14daysCasesPer100000</th>\n",
       "    </tr>\n",
       "  </thead>\n",
       "  <tbody>\n",
       "    <tr>\n",
       "      <th>52925</th>\n",
       "      <td>25</td>\n",
       "      <td>5</td>\n",
       "      <td>2020</td>\n",
       "      <td>-372</td>\n",
       "      <td>-1918</td>\n",
       "      <td>Spain</td>\n",
       "      <td>46937060.0</td>\n",
       "      <td>Europe</td>\n",
       "      <td>1.625581151</td>\n",
       "    </tr>\n",
       "  </tbody>\n",
       "</table>\n",
       "</div>"
      ],
      "text/plain": [
       "       const dataset = `day  month  year  cases  deaths country     pop2019  \\\n",
       "52925                    25      5  2020   -372   -1918   Spain  46937060.0   \n",
       "\n",
       "      continent cum14daysCasesPer100000  \n",
       "52925    Europe             1.625581151  "
      ]
     },
     "execution_count": 12,
     "metadata": {},
     "output_type": "execute_result"
    }
   ],
   "source": [
    "df[df[\"deaths\"] == -1918]"
   ]
  },
  {
   "cell_type": "code",
   "execution_count": null,
   "metadata": {},
   "outputs": [],
   "source": []
  }
 ],
 "metadata": {
  "kernelspec": {
   "display_name": "base",
   "language": "python",
   "name": "python3"
  },
  "language_info": {
   "codemirror_mode": {
    "name": "ipython",
    "version": 3
   },
   "file_extension": ".py",
   "mimetype": "text/x-python",
   "name": "python",
   "nbconvert_exporter": "python",
   "pygments_lexer": "ipython3",
   "version": "3.9.12"
  },
  "orig_nbformat": 4,
  "vscode": {
   "interpreter": {
    "hash": "a4accff9b824b4e95d663538cd05ff1f91ceee97c1042306bcbddf3694829605"
   }
  }
 },
 "nbformat": 4,
 "nbformat_minor": 2
}
